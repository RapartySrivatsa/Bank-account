{
 "cells": [
  {
   "cell_type": "code",
   "execution_count": null,
   "id": "a120cedd",
   "metadata": {},
   "outputs": [],
   "source": [
    "#Object Oriented Programming Challenge\n",
    "\n",
    "For this challenge, create a bank account class that has two attributes owner, balance, and two methods:\n",
    "deposit\n",
    "withdraw\n",
    "\n",
    "As an added requirement, withdrawals may not exceed the available balance. \n",
    "Instantiate your class, make several deposits and withdrawals, and test to make sure the account can't be overdrawn."
   ]
  },
  {
   "cell_type": "code",
   "execution_count": null,
   "id": "94370900",
   "metadata": {},
   "outputs": [],
   "source": [
    "class Account:\n",
    "    #initiate the account class using init\n",
    "    def __init__(self,owner,balance=0):\n",
    "        self.owner=owner\n",
    "        self.balance=balance\n",
    "        \n",
    "    #Print the details of the account and the balance on the screen    \n",
    "    def __str__(self):\n",
    "        return f'Account owner:{self.owner} \\nAccount balance:{self.balance}'\n",
    "    \n",
    "    #initiate the deposit amount using the method\n",
    "    def deposit(self, DepAmt):\n",
    "        self.balance+= DepAmt\n",
    "        print('Deposit accepted')\n",
    "        print('Current Balance:',self.balance)\n",
    "    \n",
    "    #initiate the withdraw amount using the method, after checking the amount\n",
    "    def withdraw(self, WithdrawAmt):\n",
    "        self.WithdrawAmt=WithdrawAmt\n",
    "        if self.WithdrawAmt <= self.balance:\n",
    "            self.balance -= WithdrawAmt\n",
    "            print('Withdrawal accepted')\n",
    "            print('Current Balance:',self.balance)\n",
    "        else:\n",
    "            print(\"Funds Unavailable, Your transaction is complete\") \n",
    "            print('Current Balance:',self.balance)# 1. Instantiate the class"
   ]
  },
  {
   "cell_type": "code",
   "execution_count": 67,
   "id": "4973949a",
   "metadata": {},
   "outputs": [],
   "source": [
    "# 1. Instantiate the class\n",
    "acct1 = Account('Sri Vatsa',10)"
   ]
  },
  {
   "cell_type": "code",
   "execution_count": 68,
   "id": "fe3d78c5",
   "metadata": {},
   "outputs": [
    {
     "name": "stdout",
     "output_type": "stream",
     "text": [
      "Account owner:Sri Vatsa \n",
      "Account balance:10\n"
     ]
    }
   ],
   "source": [
    "# 2. Print the object\n",
    "print(acct1)"
   ]
  },
  {
   "cell_type": "code",
   "execution_count": 69,
   "id": "5e014f58",
   "metadata": {},
   "outputs": [
    {
     "data": {
      "text/plain": [
       "'Sri Vatsa'"
      ]
     },
     "execution_count": 69,
     "metadata": {},
     "output_type": "execute_result"
    }
   ],
   "source": [
    "# 3. Show the account owner attribute\n",
    "acct1.owner"
   ]
  },
  {
   "cell_type": "code",
   "execution_count": 70,
   "id": "b0cbad64",
   "metadata": {},
   "outputs": [
    {
     "data": {
      "text/plain": [
       "10"
      ]
     },
     "execution_count": 70,
     "metadata": {},
     "output_type": "execute_result"
    }
   ],
   "source": [
    "# 4. Show the account balance attribute\n",
    "acct1.balance"
   ]
  },
  {
   "cell_type": "code",
   "execution_count": 71,
   "id": "3d899632",
   "metadata": {},
   "outputs": [
    {
     "name": "stdout",
     "output_type": "stream",
     "text": [
      "Deposit accepted\n",
      "Current Balance: 60\n"
     ]
    }
   ],
   "source": [
    "# 5. Make a series of deposits and withdrawals\n",
    "acct1.deposit(50)"
   ]
  },
  {
   "cell_type": "code",
   "execution_count": 72,
   "id": "e2d64b24",
   "metadata": {},
   "outputs": [
    {
     "name": "stdout",
     "output_type": "stream",
     "text": [
      "Withdrawal accepted\n",
      "Current Balance: 55\n"
     ]
    }
   ],
   "source": [
    "acct1.withdraw(5)"
   ]
  },
  {
   "cell_type": "code",
   "execution_count": 73,
   "id": "df33ca10",
   "metadata": {},
   "outputs": [
    {
     "name": "stdout",
     "output_type": "stream",
     "text": [
      "Funds Unavailable, Your transaction is complete\n",
      "Current Balance: 55\n"
     ]
    }
   ],
   "source": [
    "# 6. Make a withdrawal that exceeds the available balance\n",
    "acct1.withdraw(500)"
   ]
  }
 ],
 "metadata": {
  "kernelspec": {
   "display_name": "Python 3 (ipykernel)",
   "language": "python",
   "name": "python3"
  },
  "language_info": {
   "codemirror_mode": {
    "name": "ipython",
    "version": 3
   },
   "file_extension": ".py",
   "mimetype": "text/x-python",
   "name": "python",
   "nbconvert_exporter": "python",
   "pygments_lexer": "ipython3",
   "version": "3.9.13"
  }
 },
 "nbformat": 4,
 "nbformat_minor": 5
}
